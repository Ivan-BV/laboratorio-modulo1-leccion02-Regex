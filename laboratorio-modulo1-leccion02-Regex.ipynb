{
 "cells": [
  {
   "cell_type": "markdown",
   "metadata": {},
   "source": [
    "<div style=\"text-align: center;\">\n",
    "  <img src=\"https://github.com/Hack-io-Data/Imagenes/blob/main/01-LogosHackio/logo_naranja@4x.png?raw=true\" alt=\"esquema\" />\n",
    "</div>"
   ]
  },
  {
   "cell_type": "markdown",
   "metadata": {},
   "source": [
    "# Laboratorio de Regex:"
   ]
  },
  {
   "cell_type": "markdown",
   "metadata": {},
   "source": [
    "### Ejercicio 1: Extracción de datos.\n",
    "\n",
    "Recuerda que necesitamos hacer importaciones antes de enfrentarnos a un problema. "
   ]
  },
  {
   "cell_type": "code",
   "execution_count": 4,
   "metadata": {},
   "outputs": [],
   "source": [
    "# Importaciones:\n",
    "## Para trabajar con expresiones regulares\n",
    "import re \n",
    "\n",
    "## Para contar las palabras de un texto \n",
    "from collections import Counter"
   ]
  },
  {
   "cell_type": "markdown",
   "metadata": {},
   "source": [
    "Dado el archivo `datos_artistas.txt` usa las **expresiones regulares** para extraer los siguientes datos, con el código que encontrarás en la siguiente celda:"
   ]
  },
  {
   "cell_type": "code",
   "execution_count": 5,
   "metadata": {},
   "outputs": [
    {
     "name": "stdout",
     "output_type": "stream",
     "text": [
      "BobDylan bob.dylan@gmail.com -1 123456789 http://bobdylan.com Like a Rolling Stone - 6:13 1965 Once upon a time you dressed so fine\n",
      "Threw the bums a dime in your prime, didn't you?\n",
      "People call say 'be\n"
     ]
    }
   ],
   "source": [
    "with open('Datos/datos_artistas.txt', 'r', encoding=\"utf8\") as archivo:\n",
    "    contenido = archivo.read()\n",
    "    # Aquí puedes trabajar con el contenido del archivo\n",
    "\n",
    "print(contenido[:200])"
   ]
  },
  {
   "cell_type": "markdown",
   "metadata": {},
   "source": [
    "#### 1.1 La información de cada artista(nombre, correo de contacto, número de contacto y sitio web)."
   ]
  },
  {
   "cell_type": "code",
   "execution_count": 6,
   "metadata": {},
   "outputs": [],
   "source": [
    "patron_canciones = r\"\\.\\/\"\n",
    "canciones = re.split(patron_canciones, contenido)\n",
    "\n",
    "nombres = []\n",
    "patron_titulo = r\"\\w+\"\n",
    "for cancion in canciones:\n",
    "    nombres.append(re.match(patron_titulo, cancion).group())\n",
    "\n",
    "patron_correo = r\"\\w+@\\w+\\.\\w+\\.?\\w+\"\n",
    "correos = re.findall(patron_correo, contenido)\n",
    "\n",
    "patron_numero = r\"-\\d+\\s\\d+\\S\"\n",
    "numeros = re.findall(patron_numero, contenido)\n",
    "\n",
    "patron_sitio_web = r\"https?://\\S+\\s\"\n",
    "webs = re.findall(patron_sitio_web, contenido)\n"
   ]
  },
  {
   "cell_type": "markdown",
   "metadata": {},
   "source": [
    "#### 1.2 La información de cada canción(título, duración y fecha de lanzamiento)."
   ]
  },
  {
   "cell_type": "code",
   "execution_count": 7,
   "metadata": {},
   "outputs": [],
   "source": [
    "#r\"\\s(\\S+)\\s\"\n",
    "\n",
    "patron_cancion = patron_sitio_web + r\"(.*)-\\s\"\n",
    "titulos = re.findall(patron_cancion, contenido)\n",
    "\n",
    "patron_duracion = r\"\\d{1,2}:\\d{1,2}\"\n",
    "duraciones = re.findall(patron_duracion, contenido)\n",
    "\n",
    "patron_fecha_lanzamiento = patron_duracion + r\".*(\\d{4})\"\n",
    "fecha_lanzamientos = re.findall(patron_fecha_lanzamiento, contenido)"
   ]
  },
  {
   "cell_type": "markdown",
   "metadata": {},
   "source": [
    "#### 1.3 Almacena la información en una lista de diccionarios donde cada diccionario contenga los datos de un artista y su canción asociada."
   ]
  },
  {
   "cell_type": "code",
   "execution_count": 8,
   "metadata": {},
   "outputs": [
    {
     "name": "stdout",
     "output_type": "stream",
     "text": [
      "[{'Nombre': 'BobDylan', 'Correo': 'dylan@gmail.com', 'Contacto': '-1 123456789', 'Web': 'http://bobdylan.com ', 'Titulo_Cancion': 'Like a Rolling Stone ', 'Duracion': '6:13', 'Fecha_Lanzamiento': '1965'}, {'Nombre': 'TheBeatles', 'Correo': 'contact@thebeatles.co.uk', 'Contacto': '-44 234567890', 'Web': 'http://thebeatles.co.uk ', 'Titulo_Cancion': 'Hey Jude ', 'Duracion': '7:11', 'Fecha_Lanzamiento': '1968'}, {'Nombre': 'EltonJohn', 'Correo': 'john@hotmail.com', 'Contacto': '-34 345678901', 'Web': 'http://eltonjohn.com ', 'Titulo_Cancion': 'Your Song ', 'Duracion': '4:01', 'Fecha_Lanzamiento': '1970'}, {'Nombre': 'Queen', 'Correo': 'info@queenonline.com', 'Contacto': '-23 456789012', 'Web': 'http://queenonline.com ', 'Titulo_Cancion': 'Bohemian Rhapsody ', 'Duracion': '5:55', 'Fecha_Lanzamiento': '1975'}, {'Nombre': 'MichaelJackson', 'Correo': 'jackson@yahoo.com', 'Contacto': '-1 567890123', 'Web': 'http://michaeljackson.com ', 'Titulo_Cancion': 'Billie Jean ', 'Duracion': '4:54', 'Fecha_Lanzamiento': '1982'}, {'Nombre': 'Madonna', 'Correo': 'madonna@madonna.com', 'Contacto': '-11 678901234', 'Web': 'http://madonna.com ', 'Titulo_Cancion': 'Like a Prayer ', 'Duracion': '5:43', 'Fecha_Lanzamiento': '1989'}, {'Nombre': 'DavidBowie', 'Correo': 'bowie@outlook.com', 'Contacto': '-44 789012345', 'Web': 'http://davidbowie.com ', 'Titulo_Cancion': 'Space Oddity ', 'Duracion': '5:18', 'Fecha_Lanzamiento': '1969'}, {'Nombre': 'Nirvana', 'Correo': 'contact@nirvana.com', 'Contacto': '-2 890123456', 'Web': 'http://nirvana.com ', 'Titulo_Cancion': 'Smells Like Teen Spirit ', 'Duracion': '5:01', 'Fecha_Lanzamiento': '1991'}, {'Nombre': 'Adele', 'Correo': 'adele@adele.com', 'Contacto': '-44 901234567', 'Web': 'http://adele.com ', 'Titulo_Cancion': 'Someone Like You ', 'Duracion': '4:45', 'Fecha_Lanzamiento': '2011'}, {'Nombre': 'EdSheeran', 'Correo': 'sheeran@gmail.com', 'Contacto': '-44 123456789', 'Web': 'http://edsheeran.com ', 'Titulo_Cancion': 'Shape of You ', 'Duracion': '3:53', 'Fecha_Lanzamiento': '2017'}, {'Nombre': 'Beyoncé', 'Correo': 'beyonce@beyonce.com', 'Contacto': '-1 234567890', 'Web': 'http://beyonce.com ', 'Titulo_Cancion': 'Halo ', 'Duracion': '4:21', 'Fecha_Lanzamiento': '2008'}, {'Nombre': 'TaylorSwift', 'Correo': 'swift@yahoo.com', 'Contacto': '-34 345678901', 'Web': 'http://taylorswift.com ', 'Titulo_Cancion': 'Blank Space ', 'Duracion': '3:52', 'Fecha_Lanzamiento': '2014'}, {'Nombre': 'Rihanna', 'Correo': 'rihanna@hotmail.com', 'Contacto': '-1 456789012', 'Web': 'http://rihanna.com ', 'Titulo_Cancion': 'Diamonds ', 'Duracion': '3:45', 'Fecha_Lanzamiento': '2012'}, {'Nombre': 'Drake', 'Correo': 'drake@drake.com', 'Contacto': '-54 567890123,', 'Web': 'http://drake.com ', 'Titulo_Cancion': 'Hotline Bling ', 'Duracion': '4:27', 'Fecha_Lanzamiento': '2015'}, {'Nombre': 'KanyeWest', 'Correo': 'west@gmail.com', 'Contacto': '-13 678901234', 'Web': 'http://kanyewest.com ', 'Titulo_Cancion': 'Stronger ', 'Duracion': '5:12', 'Fecha_Lanzamiento': '2007'}, {'Nombre': 'BrunoMars', 'Correo': 'mars@outlook.com', 'Contacto': '-1 789012345', 'Web': 'https://brunomars.com ', 'Titulo_Cancion': 'Uptown Funk ', 'Duracion': '4:30', 'Fecha_Lanzamiento': '2014'}, {'Nombre': 'ArianaGrande', 'Correo': 'grande@yahoo.com', 'Contacto': '-23 890123456', 'Web': 'https://arianagrande.com ', 'Titulo_Cancion': '7 Rings ', 'Duracion': '2:58', 'Fecha_Lanzamiento': '2019'}, {'Nombre': 'Shakira', 'Correo': 'shakira@hotmail.com', 'Contacto': '-57 123456789,', 'Web': 'http://shakira.com ', 'Titulo_Cancion': \"Hips Don't Lie \", 'Duracion': '3:38', 'Fecha_Lanzamiento': '2006'}, {'Nombre': 'Coldplay', 'Correo': 'info@coldplay.com', 'Contacto': '-57 234567890', 'Web': 'http://coldplay.com ', 'Titulo_Cancion': 'Yellow ', 'Duracion': '4:26', 'Fecha_Lanzamiento': '2000'}, {'Nombre': 'LadyGaga', 'Correo': 'gaga@gmail.com', 'Contacto': '-34 345678901', 'Web': 'https://ladygaga.com ', 'Titulo_Cancion': 'Bad Romance ', 'Duracion': '4:54', 'Fecha_Lanzamiento': '2009'}]\n"
     ]
    }
   ],
   "source": [
    "keys = ('Nombres', 'Correos', 'Contacto', 'Web')\n",
    "claves = (nombres, correos, numeros, webs)\n",
    "\n",
    "artistas = list(map(lambda nombre, correo, numero, web, titulo_cancion, duracion, fecha_lanzamiento: {'Nombre': nombre, 'Correo': correo, 'Contacto': numero, 'Web': web, 'Titulo_Cancion': titulo_cancion, 'Duracion': duracion, 'Fecha_Lanzamiento': fecha_lanzamiento}, nombres, correos, numeros, webs, titulos, duraciones, fecha_lanzamientos))\n",
    "print(artistas)"
   ]
  },
  {
   "cell_type": "markdown",
   "metadata": {},
   "source": [
    "### Ejercicio 2: Análisis de datos\n",
    "Usa las **expresiones regulares** para extraer la siguiente información:"
   ]
  },
  {
   "cell_type": "markdown",
   "metadata": {},
   "source": [
    "#### 2.1 Busca la palabra más repetida en el texto completo.\n"
   ]
  },
  {
   "cell_type": "code",
   "execution_count": 9,
   "metadata": {},
   "outputs": [
    {
     "data": {
      "text/plain": [
       "[('I', 496)]"
      ]
     },
     "execution_count": 9,
     "metadata": {},
     "output_type": "execute_result"
    }
   ],
   "source": [
    "from collections import Counter\n",
    "\n",
    "def contar(texto):\n",
    "    patron_counter = r\"\\b\\w+\\b\"\n",
    "    palabra_repetida = re.findall(patron_counter, texto)\n",
    "\n",
    "    palabra_repetida = Counter(palabra_repetida)\n",
    "    return palabra_repetida.most_common(1)\n",
    "\n",
    "contar(contenido)\n"
   ]
  },
  {
   "cell_type": "markdown",
   "metadata": {},
   "source": [
    "#### 2.2 Busca la palabra que más repetida en cada cación.\n"
   ]
  },
  {
   "cell_type": "code",
   "execution_count": 10,
   "metadata": {},
   "outputs": [
    {
     "name": "stdout",
     "output_type": "stream",
     "text": [
      "[('you', 27)]\n",
      "[('it', 13)]\n",
      "[('I', 22)]\n",
      "[('me', 17)]\n",
      "[('the', 34)]\n",
      "[('a', 47)]\n",
      "[('I', 10)]\n",
      "[('hello', 24)]\n",
      "[('I', 27)]\n",
      "[('I', 54)]\n",
      "[('halo', 67)]\n",
      "[('I', 31)]\n",
      "[('like', 38)]\n",
      "[('you', 26)]\n",
      "[('I', 56)]\n",
      "[('do', 53)]\n",
      "[('I', 56)]\n",
      "[('I', 24)]\n",
      "[('you', 20)]\n",
      "[('oh', 127)]\n"
     ]
    }
   ],
   "source": [
    "for cancion in canciones:\n",
    "    print(contar(cancion))"
   ]
  },
  {
   "cell_type": "markdown",
   "metadata": {},
   "source": [
    "#### 2.3 Busca el nombre de la canción que más dura.\n"
   ]
  },
  {
   "cell_type": "code",
   "execution_count": 11,
   "metadata": {},
   "outputs": [
    {
     "name": "stdout",
     "output_type": "stream",
     "text": [
      "TheBeatles\n"
     ]
    }
   ],
   "source": [
    "valor_maximo = 0\n",
    "nombre_artista = \"\"\n",
    "for artista in artistas:\n",
    "    duracion = int(str(artista['Duracion']).replace(\":\",\"\"))\n",
    "    if int(duracion) > valor_maximo:\n",
    "        valor_maximo = duracion\n",
    "        nombre_artista = artista['Nombre']\n",
    "\n",
    "print(nombre_artista)"
   ]
  },
  {
   "cell_type": "markdown",
   "metadata": {},
   "source": [
    "#### 2.4 Busca el nombre de la canción que menos dura."
   ]
  },
  {
   "cell_type": "code",
   "execution_count": 12,
   "metadata": {},
   "outputs": [
    {
     "name": "stdout",
     "output_type": "stream",
     "text": [
      "7 Rings \n"
     ]
    }
   ],
   "source": [
    "valor_minimo = 0\n",
    "nombre_cancion = \"\"\n",
    "for artista in artistas:\n",
    "    duracion = int(str(artista['Duracion']).replace(\":\",\"\"))\n",
    "    if int(duracion) < valor_minimo or nombre_cancion == \"\":\n",
    "        valor_minimo = duracion\n",
    "        nombre_cancion = artista['Titulo_Cancion']\n",
    "\n",
    "print(nombre_cancion)"
   ]
  },
  {
   "cell_type": "markdown",
   "metadata": {},
   "source": [
    "#### 2.5 Busca el nombre y la fecha de lanzamiento de la canción más actual."
   ]
  },
  {
   "cell_type": "code",
   "execution_count": 19,
   "metadata": {},
   "outputs": [
    {
     "name": "stdout",
     "output_type": "stream",
     "text": [
      "2019\n"
     ]
    }
   ],
   "source": [
    "from functools import reduce\n",
    "\n",
    "\n",
    "fecha_actual = 0\n",
    "nombre_artista = \"\"\n",
    "for artista in artistas:\n",
    "    fecha_nueva = int(artista[\"Fecha_Lanzamiento\"])\n",
    "    if fecha_nueva>fecha_actual:\n",
    "        fecha_actual = fecha_nueva\n",
    "        nombre_artista = artista['Nombre']  \n",
    "\n",
    "print(fecha_actual)\n"
   ]
  },
  {
   "cell_type": "markdown",
   "metadata": {},
   "source": [
    "#### 2.6 Calcula la cantidad de países a partir de los números de contacto."
   ]
  },
  {
   "cell_type": "code",
   "execution_count": 25,
   "metadata": {},
   "outputs": [
    {
     "name": "stdout",
     "output_type": "stream",
     "text": [
      "El número total de paises es: 20\n"
     ]
    }
   ],
   "source": [
    "patron_prefijo = r\"-\\d+\\s\"\n",
    "\n",
    "prefijos = []\n",
    "for artista in artistas:\n",
    "    prefijo = re.match(patron_prefijo, artista['Contacto'])\n",
    "    if prefijo not in prefijos:\n",
    "        prefijos.append(prefijo)\n",
    "\n",
    "print(f\"El número total de paises es: {len(prefijos)}\")"
   ]
  },
  {
   "cell_type": "markdown",
   "metadata": {},
   "source": [
    "#### 2.7 Agrupa las canciones por década."
   ]
  },
  {
   "cell_type": "code",
   "execution_count": 40,
   "metadata": {},
   "outputs": [
    {
     "name": "stdout",
     "output_type": "stream",
     "text": [
      "{'Like a Rolling Stone ': 1960, 'Hey Jude ': 1960, 'Your Song ': 1970, 'Bohemian Rhapsody ': 1970, 'Billie Jean ': 1980, 'Like a Prayer ': 1980, 'Space Oddity ': 1960, 'Smells Like Teen Spirit ': 1990, 'Someone Like You ': 2010, 'Shape of You ': 2010, 'Halo ': 2000, 'Blank Space ': 2010, 'Diamonds ': 2010, 'Hotline Bling ': 2010, 'Stronger ': 2000, 'Uptown Funk ': 2010, '7 Rings ': 2010, \"Hips Don't Lie \": 2000, 'Yellow ': 2000, 'Bad Romance ': 2000}\n"
     ]
    }
   ],
   "source": [
    "decada = []\n",
    "for fecha in fecha_lanzamientos:\n",
    "    decada.append((int(fecha) // 10)*10)\n",
    "    \n",
    "decadas = dict(zip(titulos, decada))\n",
    "\n",
    "print(decadas)\n",
    "\n",
    "\n",
    "\n"
   ]
  }
 ],
 "metadata": {
  "kernelspec": {
   "display_name": "Python 3",
   "language": "python",
   "name": "python3"
  },
  "language_info": {
   "codemirror_mode": {
    "name": "ipython",
    "version": 3
   },
   "file_extension": ".py",
   "mimetype": "text/x-python",
   "name": "python",
   "nbconvert_exporter": "python",
   "pygments_lexer": "ipython3",
   "version": "3.12.6"
  }
 },
 "nbformat": 4,
 "nbformat_minor": 2
}
